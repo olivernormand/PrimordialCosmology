{
 "cells": [
  {
   "cell_type": "code",
   "execution_count": 1,
   "metadata": {},
   "outputs": [],
   "source": [
    "import numpy as np"
   ]
  },
  {
   "cell_type": "code",
   "execution_count": 2,
   "metadata": {},
   "outputs": [],
   "source": [
    "x = np.arange(0, 10, 0.2)"
   ]
  },
  {
   "cell_type": "code",
   "execution_count": 3,
   "metadata": {},
   "outputs": [
    {
     "data": {
      "text/plain": [
       "array([0. , 0.2, 0.4, 0.6, 0.8, 1. , 1.2, 1.4, 1.6, 1.8, 2. , 2.2, 2.4,\n",
       "       2.6, 2.8, 3. , 3.2, 3.4, 3.6, 3.8, 4. , 4.2, 4.4, 4.6, 4.8, 5. ,\n",
       "       5.2, 5.4, 5.6, 5.8, 6. , 6.2, 6.4, 6.6, 6.8, 7. , 7.2, 7.4, 7.6,\n",
       "       7.8, 8. , 8.2, 8.4, 8.6, 8.8, 9. , 9.2, 9.4, 9.6, 9.8])"
      ]
     },
     "execution_count": 3,
     "metadata": {},
     "output_type": "execute_result"
    }
   ],
   "source": [
    "x"
   ]
  },
  {
   "cell_type": "code",
   "execution_count": 4,
   "metadata": {},
   "outputs": [],
   "source": [
    "def get_params_from_nDims(nDims):\n",
    "    params = []\n",
    "    nX = (nDims + 2) // 2\n",
    "\n",
    "    for i in range(1, nX - 1):\n",
    "        params.append('x{}'.format(i))\n",
    "    for i in range(nX):\n",
    "        params.append('y{}'.format(i))\n",
    "\n",
    "    return params\n"
   ]
  },
  {
   "cell_type": "code",
   "execution_count": 5,
   "metadata": {},
   "outputs": [
    {
     "data": {
      "text/plain": [
       "['x1', 'x2', 'x3', 'y0', 'y1', 'y2', 'y3', 'y4']"
      ]
     },
     "execution_count": 5,
     "metadata": {},
     "output_type": "execute_result"
    }
   ],
   "source": [
    "get_params_from_nDims(8)"
   ]
  },
  {
   "cell_type": "code",
   "execution_count": 6,
   "metadata": {},
   "outputs": [],
   "source": [
    "empty_dict = {}\n",
    "empty_dict['x0'] = None"
   ]
  },
  {
   "cell_type": "code",
   "execution_count": 7,
   "metadata": {},
   "outputs": [
    {
     "data": {
      "text/plain": [
       "{'x0': None}"
      ]
     },
     "execution_count": 7,
     "metadata": {},
     "output_type": "execute_result"
    }
   ],
   "source": [
    "empty_dict"
   ]
  },
  {
   "cell_type": "code",
   "execution_count": 8,
   "metadata": {},
   "outputs": [],
   "source": [
    "def get_params_from_nDims(nDims):\n",
    "    params_list = []\n",
    "    params_dict = {}\n",
    "    nX = (nDims + 2) // 2\n",
    "\n",
    "    for i in range(1, nX - 1):\n",
    "        add_me = 'x{}'.format(i)\n",
    "        params_list.append(add_me)\n",
    "        params_dict[add_me] = None\n",
    "    for i in range(nX):\n",
    "        add_me = 'y{}'.format(i)\n",
    "        params_list.append(add_me)\n",
    "        params_dict[add_me] = None\n",
    "\n",
    "    return params_list, params_dict\n"
   ]
  },
  {
   "cell_type": "code",
   "execution_count": 9,
   "metadata": {},
   "outputs": [],
   "source": [
    "p_list, p_dict = get_params_from_nDims(8)"
   ]
  },
  {
   "cell_type": "code",
   "execution_count": 10,
   "metadata": {},
   "outputs": [
    {
     "data": {
      "text/plain": [
       "(['x1', 'x2', 'x3', 'y0', 'y1', 'y2', 'y3', 'y4'],\n",
       " {'x1': None,\n",
       "  'x2': None,\n",
       "  'x3': None,\n",
       "  'y0': None,\n",
       "  'y1': None,\n",
       "  'y2': None,\n",
       "  'y3': None,\n",
       "  'y4': None})"
      ]
     },
     "execution_count": 10,
     "metadata": {},
     "output_type": "execute_result"
    }
   ],
   "source": [
    "p_list, p_dict"
   ]
  },
  {
   "cell_type": "code",
   "execution_count": 11,
   "metadata": {},
   "outputs": [
    {
     "data": {
      "text/plain": [
       "array([1.00000000e-04, 1.08986759e-04, 1.18781136e-04, 1.29455710e-04,\n",
       "       1.41089583e-04, 1.53768963e-04, 1.67587809e-04, 1.82648522e-04,\n",
       "       1.99062704e-04, 2.16951989e-04, 2.36448941e-04, 2.57698037e-04,\n",
       "       2.80856739e-04, 3.06096657e-04, 3.33604825e-04, 3.63585086e-04,\n",
       "       3.96259601e-04, 4.31870496e-04, 4.70681656e-04, 5.12980681e-04,\n",
       "       5.59081018e-04, 6.09324281e-04, 6.64082785e-04, 7.23762304e-04,\n",
       "       7.88805077e-04, 8.59693087e-04, 9.36951631e-04, 1.02115322e-03,\n",
       "       1.11292179e-03, 1.21293739e-03, 1.32194115e-03, 1.44074081e-03,\n",
       "       1.57021671e-03, 1.71132830e-03, 1.86512125e-03, 2.03273520e-03,\n",
       "       2.21541221e-03, 2.41450597e-03, 2.63149179e-03, 2.86797762e-03,\n",
       "       3.12571585e-03, 3.40661640e-03, 3.71276080e-03, 4.04641766e-03,\n",
       "       4.41005945e-03, 4.80638086e-03, 5.23831872e-03, 5.70907379e-03,\n",
       "       6.22213449e-03, 6.78130271e-03, 7.39072203e-03, 8.05490840e-03,\n",
       "       8.77878360e-03, 9.56771171e-03, 1.04275389e-02, 1.13646367e-02,\n",
       "       1.23859492e-02, 1.34990445e-02, 1.47121711e-02, 1.60343185e-02,\n",
       "       1.74752840e-02, 1.90457456e-02, 2.07573409e-02, 2.26227530e-02,\n",
       "       2.46558053e-02, 2.68715631e-02, 2.92864456e-02, 3.19183479e-02,\n",
       "       3.47867729e-02, 3.79129762e-02, 4.13201240e-02, 4.50334639e-02,\n",
       "       4.90805127e-02, 5.34912600e-02, 5.82983906e-02, 6.35375264e-02,\n",
       "       6.92474907e-02, 7.54705957e-02, 8.22529561e-02, 8.96448309e-02,\n",
       "       9.77009957e-02, 1.06481149e-01, 1.16050353e-01, 1.26479518e-01,\n",
       "       1.37845927e-01, 1.50233808e-01, 1.63734959e-01, 1.78449424e-01,\n",
       "       1.94486244e-01, 2.11964254e-01, 2.31012970e-01, 2.51773549e-01,\n",
       "       2.74399830e-01, 2.99059481e-01, 3.25935236e-01, 3.55226249e-01,\n",
       "       3.87149576e-01, 4.21941775e-01, 4.59860665e-01, 5.01187234e-01])"
      ]
     },
     "execution_count": 11,
     "metadata": {},
     "output_type": "execute_result"
    }
   ],
   "source": [
    "np.logspace(-4, -0.3, 100)"
   ]
  },
  {
   "cell_type": "code",
   "execution_count": null,
   "metadata": {},
   "outputs": [],
   "source": []
  }
 ],
 "metadata": {
  "interpreter": {
   "hash": "f656ef1b35fa2ad861a3b2ed5c6b37f37cfb31b0bbcfcde43f5d71dcca12cd7f"
  },
  "kernelspec": {
   "display_name": "Python 3.8.2 ('env': venv)",
   "language": "python",
   "name": "python3"
  },
  "language_info": {
   "codemirror_mode": {
    "name": "ipython",
    "version": 3
   },
   "file_extension": ".py",
   "mimetype": "text/x-python",
   "name": "python",
   "nbconvert_exporter": "python",
   "pygments_lexer": "ipython3",
   "version": "3.8.2"
  },
  "orig_nbformat": 4
 },
 "nbformat": 4,
 "nbformat_minor": 2
}
